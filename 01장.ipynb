{
 "cells": [
  {
   "cell_type": "markdown",
   "metadata": {},
   "source": [
    "\n",
    "# 이 책을 선택한 이유\n",
    "\n",
    "저자는 \"이 책은 파이썬이란 언어를 처음 접해보는 독자들과 프로그래밍을 한 번도 해 본적이 없는 사람들을 대상으로 한다.   \n",
    "프로그래밍을 할 때 사용되는 전문적인 용어들을 알기 쉽게 풀어서 쓰려고 노력하였으며,파이썬의 개별적인 특성만을 강조하지 않고   \n",
    "프로그래밍 전반에 관한 사항을 파이썬이란 언어를 통해 알 수 있도록 알기 쉽게 설명하였다.\"라고 말했다!  \n",
    "\n",
    "이 책을 고른 이유이기도 하고 R도 'do it 쉽게 배우는 R 데이터 분석'으로 공부한 경험이 있어서 선택했다!\n",
    "\n",
    "do it 점프 투 파이썬!! 앞으로 잘 부탁해!!\n",
    "\n",
    "# 01장 파이썬이란?\n",
    "\n",
    "코드 공부와 상관없으니 정리는 생략!!\n"
   ]
  }
 ],
 "metadata": {
  "kernelspec": {
   "display_name": "Python 3",
   "language": "python",
   "name": "python3"
  },
  "language_info": {
   "codemirror_mode": {
    "name": "ipython",
    "version": 3
   },
   "file_extension": ".py",
   "mimetype": "text/x-python",
   "name": "python",
   "nbconvert_exporter": "python",
   "pygments_lexer": "ipython3",
   "version": "3.8.5"
  }
 },
 "nbformat": 4,
 "nbformat_minor": 4
}
