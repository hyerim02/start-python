{
 "cells": [
  {
   "cell_type": "markdown",
   "metadata": {},
   "source": [
    "# Q1  \n",
    "다음 코드의 결과는?  \n",
    "\n",
    "a = \"Life is too short, you need python\"  \n",
    "\n",
    "if \"wife\" in a: print(\"wife\")  \n",
    "elif \"python\" in a and \"you\" not in a: print(\"python\")  \n",
    "elif \"shirt\" not in a: print(\"shirt\")  \n",
    "elif \"need\" in a: print(\"need\")  \n",
    "else: print(\"none\")"
   ]
  },
  {
   "cell_type": "code",
   "execution_count": null,
   "metadata": {},
   "outputs": [],
   "source": [
    "#shirt"
   ]
  },
  {
   "cell_type": "markdown",
   "metadata": {},
   "source": [
    "# Q2  \n",
    "while문을 사용해 1부터 1000까지의 자연수 중 3의 배수의 합을 구해 보자."
   ]
  },
  {
   "cell_type": "code",
   "execution_count": 7,
   "metadata": {
    "ExecuteTime": {
     "end_time": "2022-05-25T07:58:19.293689Z",
     "start_time": "2022-05-25T07:58:19.285711Z"
    }
   },
   "outputs": [
    {
     "name": "stdout",
     "output_type": "stream",
     "text": [
      "166833\n"
     ]
    }
   ],
   "source": [
    "num = 0\n",
    "i = 1\n",
    "while i<=1000:\n",
    "    if i % 3 == 0:\n",
    "        num += i\n",
    "    i += 1\n",
    "print(num)    "
   ]
  },
  {
   "cell_type": "markdown",
   "metadata": {},
   "source": [
    "# Q3  \n",
    "while문을 사용하여 다음과 같이 별(*)을 표시하는 프로그램을 작성  \n",
    "\n",
    "\n",
    "`*`  \n",
    "`**`  \n",
    "`***`  \n",
    "`****`  \n",
    "`*****`"
   ]
  },
  {
   "cell_type": "markdown",
   "metadata": {},
   "source": [
    "# Q4  \n",
    "for문을 사용해 1부터 100까지의 숫자를 출력"
   ]
  },
  {
   "cell_type": "markdown",
   "metadata": {},
   "source": [
    "# Q5  \n",
    " 학급에 총 10명의 학생이 있다. 이 학생들의 중간고사 점수는 다음과 같다.  \n",
    " \n",
    "`[70, 60, 55, 75, 95, 90, 80, 80, 85, 100]`  \n",
    "for문을 사용하여 A 학급의 평균 점수 구하기."
   ]
  },
  {
   "cell_type": "markdown",
   "metadata": {},
   "source": [
    "# Q6  \n",
    "리스트 중에서 홀수에만 2를 곱하여 저장하는 다음 코드가 있다.  \n",
    "  \n",
    "numbers = [1, 2, 3, 4, 5]  \n",
    "result = []  \n",
    "for n in numbers:  \n",
    "&nbsp;&nbsp;&nbsp;&nbsp;if n % 2 == 1:  \n",
    "&nbsp;&nbsp;&nbsp;&nbsp;&nbsp;&nbsp;&nbsp;&nbsp;result.append(n*2)  \n",
    "위 코드를 리스트 내포(list comprehension)를 사용하여 표현해 보자."
   ]
  },
  {
   "cell_type": "markdown",
   "metadata": {},
   "source": []
  },
  {
   "cell_type": "markdown",
   "metadata": {},
   "source": []
  }
 ],
 "metadata": {
  "kernelspec": {
   "display_name": "Python 3",
   "language": "python",
   "name": "python3"
  },
  "language_info": {
   "codemirror_mode": {
    "name": "ipython",
    "version": 3
   },
   "file_extension": ".py",
   "mimetype": "text/x-python",
   "name": "python",
   "nbconvert_exporter": "python",
   "pygments_lexer": "ipython3",
   "version": "3.8.5"
  },
  "toc": {
   "base_numbering": 1,
   "nav_menu": {},
   "number_sections": true,
   "sideBar": true,
   "skip_h1_title": false,
   "title_cell": "Table of Contents",
   "title_sidebar": "Contents",
   "toc_cell": false,
   "toc_position": {},
   "toc_section_display": true,
   "toc_window_display": false
  }
 },
 "nbformat": 4,
 "nbformat_minor": 4
}
