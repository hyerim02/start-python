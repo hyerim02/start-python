{
 "cells": [
  {
   "cell_type": "markdown",
   "metadata": {},
   "source": [
    "# 06장 파이썬 프로그래밍, 어떻게 시작해야 할까?  \n",
    "---"
   ]
  },
  {
   "cell_type": "markdown",
   "metadata": {},
   "source": [
    "아주 짤막한 스크립트와 함수들을 만들기  \n",
    "아마 프로그래밍 감각을 키우는 데 더할 나위 없이 좋은 재료가 될 것이다.  \n",
    "스크립트란 에디터로 작성한 파이썬 프로그램 파일을 말한다.    \n",
    "이 장에 소개된 모든 파이썬 프로그램 예제는 대화형 인터프리터가 아닌 에디터로 작성"
   ]
  },
  {
   "cell_type": "markdown",
   "metadata": {},
   "source": [
    "## 06-1내가 프로그램을 만들 수 있을까?  \n",
    "---"
   ]
  },
  {
   "cell_type": "markdown",
   "metadata": {},
   "source": [
    "프로그램을 막 시작하려는 사람이 맨 먼저 부딪히게 되는 벽은 아마도 다음과 같지 않을까?  \n",
    "\n",
    "\"문법도 어느 정도 알겠고, 책 내용도 대부분 이해된다. 하지만 이러한 지식을 바탕으로 내가 도대체 어떤 프로그램을 만들 수 있을까?\"    \n",
    "\n",
    "\"어떤 프로그램을 짜야지?\"라는 생각보다는 다른 사람들이 만든 프로그램 파일을 자세히 들여다보고 분석하는 데서 시작하는 것이 좋다.   \n",
    "\n",
    "그러다 보면 다른 사람들의 생각도 읽을 수 있고 거기에 더해 뭔가 새로운 아이디어가 떠오를 수도 있다.  \n",
    "하지만 여기에서 가장 중요한 것은 자신의 수준에 맞는 소스를 찾는 일이다.   \n",
    "그래서 이 장에서는 아주 쉬운 예제부터 시작해서 차츰 수준을 높여 실용적인 예제까지 다루려고 노력하였다.  \n",
    "\n",
    "\n",
    "이렇게 적혀있지만, 난 아직 많이 부족한 것 같다.  \n",
    "그래서 이번 6장은 솔직하게 걱정된다.\n",
    "진짜..소제목 내 생각을 적어놓은 느낌이다."
   ]
  },
  {
   "cell_type": "markdown",
   "metadata": {},
   "source": [
    "## 06-2 3과 5의 배수 합하기  \n",
    "---"
   ]
  },
  {
   "cell_type": "markdown",
   "metadata": {},
   "source": [
    "## 06-3 게시판 페이징하기  \n",
    "---"
   ]
  },
  {
   "cell_type": "markdown",
   "metadata": {},
   "source": [
    "## 06-4 간단한 메모장 만들기  \n",
    "---"
   ]
  },
  {
   "cell_type": "markdown",
   "metadata": {},
   "source": [
    "## 06-5 탭을 4개의 공백으로 바꾸기  \n",
    "---"
   ]
  },
  {
   "cell_type": "markdown",
   "metadata": {},
   "source": [
    "## 06-6 하위 디렉터리 검색하기  \n",
    "---"
   ]
  },
  {
   "cell_type": "markdown",
   "metadata": {},
   "source": [
    "## 06-7 파이보  \n",
    "---"
   ]
  },
  {
   "cell_type": "markdown",
   "metadata": {},
   "source": [
    "## 06-8 코딩도장  \n",
    "---"
   ]
  }
 ],
 "metadata": {
  "kernelspec": {
   "display_name": "Python 3",
   "language": "python",
   "name": "python3"
  },
  "language_info": {
   "codemirror_mode": {
    "name": "ipython",
    "version": 3
   },
   "file_extension": ".py",
   "mimetype": "text/x-python",
   "name": "python",
   "nbconvert_exporter": "python",
   "pygments_lexer": "ipython3",
   "version": "3.8.5"
  },
  "toc": {
   "base_numbering": 1,
   "nav_menu": {},
   "number_sections": true,
   "sideBar": true,
   "skip_h1_title": false,
   "title_cell": "Table of Contents",
   "title_sidebar": "Contents",
   "toc_cell": false,
   "toc_position": {},
   "toc_section_display": true,
   "toc_window_display": false
  }
 },
 "nbformat": 4,
 "nbformat_minor": 4
}
