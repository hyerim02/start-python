{
 "cells": [
  {
   "cell_type": "markdown",
   "metadata": {},
   "source": [
    "# Q1  \n",
    "다음 코드의 결과는?  \n",
    "\n",
    "a = \"Life is too short, you need python\"  \n",
    "\n",
    "if \"wife\" in a: print(\"wife\")  \n",
    "elif \"python\" in a and \"you\" not in a: print(\"python\")  \n",
    "elif \"shirt\" not in a: print(\"shirt\")  \n",
    "elif \"need\" in a: print(\"need\")  \n",
    "else: print(\"none\")"
   ]
  },
  {
   "cell_type": "code",
   "execution_count": null,
   "metadata": {},
   "outputs": [],
   "source": [
    "#shirt"
   ]
  },
  {
   "cell_type": "markdown",
   "metadata": {},
   "source": [
    "# Q2  \n",
    "while문을 사용해 1부터 1000까지의 자연수 중 3의 배수의 합을 구해 보자."
   ]
  },
  {
   "cell_type": "code",
   "execution_count": 7,
   "metadata": {
    "ExecuteTime": {
     "end_time": "2022-05-25T07:58:19.293689Z",
     "start_time": "2022-05-25T07:58:19.285711Z"
    }
   },
   "outputs": [
    {
     "name": "stdout",
     "output_type": "stream",
     "text": [
      "166833\n"
     ]
    }
   ],
   "source": [
    "num = 0\n",
    "i = 1\n",
    "while i<=1000:\n",
    "    if i % 3 == 0:\n",
    "        num += i\n",
    "    i += 1\n",
    "print(num)    "
   ]
  },
  {
   "cell_type": "markdown",
   "metadata": {},
   "source": [
    "# Q3  \n",
    "while문을 사용하여 다음과 같이 별(*)을 표시하는 프로그램을 작성  \n",
    "\n",
    "\n",
    "`*`  \n",
    "`**`  \n",
    "`***`  \n",
    "`****`  \n",
    "`*****`"
   ]
  },
  {
   "cell_type": "code",
   "execution_count": 14,
   "metadata": {
    "ExecuteTime": {
     "end_time": "2022-05-25T08:21:38.849042Z",
     "start_time": "2022-05-25T08:21:38.834957Z"
    }
   },
   "outputs": [
    {
     "name": "stdout",
     "output_type": "stream",
     "text": [
      "*\n",
      "**\n",
      "***\n",
      "****\n",
      "*****\n"
     ]
    }
   ],
   "source": [
    "i = 0\n",
    "while i <5:\n",
    "    i += 1\n",
    "    print(\"*\"* i)\n",
    "    "
   ]
  },
  {
   "cell_type": "markdown",
   "metadata": {},
   "source": [
    "# Q4  \n",
    "for문을 사용해 1부터 100까지의 숫자를 출력"
   ]
  },
  {
   "cell_type": "code",
   "execution_count": 9,
   "metadata": {
    "ExecuteTime": {
     "end_time": "2022-05-25T08:18:27.630435Z",
     "start_time": "2022-05-25T08:18:27.622840Z"
    }
   },
   "outputs": [
    {
     "name": "stdout",
     "output_type": "stream",
     "text": [
      "1 2 3 4 5 6 7 8 9 10 11 12 13 14 15 16 17 18 19 20 21 22 23 24 25 26 27 28 29 30 31 32 33 34 35 36 37 38 39 40 41 42 43 44 45 46 47 48 49 50 51 52 53 54 55 56 57 58 59 60 61 62 63 64 65 66 67 68 69 70 71 72 73 74 75 76 77 78 79 80 81 82 83 84 85 86 87 88 89 90 91 92 93 94 95 96 97 98 99 100 "
     ]
    }
   ],
   "source": [
    "for i in range(1,101):\n",
    "    print(i,end=\" \")"
   ]
  },
  {
   "cell_type": "markdown",
   "metadata": {},
   "source": [
    "# Q5  \n",
    " 학급에 총 10명의 학생이 있다. 이 학생들의 중간고사 점수는 다음과 같다.  \n",
    " \n",
    "`[70, 60, 55, 75, 95, 90, 80, 80, 85, 100]`  \n",
    "for문을 사용하여 A 학급의 평균 점수 구하기."
   ]
  },
  {
   "cell_type": "code",
   "execution_count": 20,
   "metadata": {
    "ExecuteTime": {
     "end_time": "2022-05-25T08:23:35.905204Z",
     "start_time": "2022-05-25T08:23:35.892329Z"
    }
   },
   "outputs": [
    {
     "name": "stdout",
     "output_type": "stream",
     "text": [
      "79.0\n"
     ]
    }
   ],
   "source": [
    "a=[70,60,55,75,95,90,80,80,85,100]\n",
    "num=0\n",
    "for i in a:\n",
    "    num += i\n",
    "print(num / len(a))"
   ]
  },
  {
   "cell_type": "markdown",
   "metadata": {},
   "source": [
    "# Q6  \n",
    "리스트 중에서 홀수에만 2를 곱하여 저장하는 다음 코드가 있다.  \n",
    "  \n",
    "numbers = [1, 2, 3, 4, 5]  \n",
    "result = []  \n",
    "for n in numbers:  \n",
    "&nbsp;&nbsp;&nbsp;&nbsp;if n % 2 == 1:  \n",
    "&nbsp;&nbsp;&nbsp;&nbsp;&nbsp;&nbsp;&nbsp;&nbsp;result.append(n*2)  \n",
    "위 코드를 리스트 내포(list comprehension)를 사용하여 표현해 보자."
   ]
  },
  {
   "cell_type": "code",
   "execution_count": 22,
   "metadata": {
    "ExecuteTime": {
     "end_time": "2022-05-25T08:24:34.781174Z",
     "start_time": "2022-05-25T08:24:34.750655Z"
    }
   },
   "outputs": [
    {
     "data": {
      "text/plain": [
       "[2, 6, 10]"
      ]
     },
     "execution_count": 22,
     "metadata": {},
     "output_type": "execute_result"
    }
   ],
   "source": [
    "numbers = [1, 2, 3, 4, 5]\n",
    "result = []\n",
    "for n in numbers:\n",
    "    if n % 2 == 1:\n",
    "        result.append(n*2)\n",
    "result        "
   ]
  },
  {
   "cell_type": "code",
   "execution_count": 24,
   "metadata": {
    "ExecuteTime": {
     "end_time": "2022-05-25T08:25:47.772389Z",
     "start_time": "2022-05-25T08:25:47.749636Z"
    }
   },
   "outputs": [
    {
     "data": {
      "text/plain": [
       "[2, 6, 10]"
      ]
     },
     "execution_count": 24,
     "metadata": {},
     "output_type": "execute_result"
    }
   ],
   "source": [
    "[n*2 for n in [1, 2, 3, 4, 5] if n % 2 == 1]"
   ]
  }
 ],
 "metadata": {
  "kernelspec": {
   "display_name": "Python 3",
   "language": "python",
   "name": "python3"
  },
  "language_info": {
   "codemirror_mode": {
    "name": "ipython",
    "version": 3
   },
   "file_extension": ".py",
   "mimetype": "text/x-python",
   "name": "python",
   "nbconvert_exporter": "python",
   "pygments_lexer": "ipython3",
   "version": "3.8.5"
  },
  "toc": {
   "base_numbering": 1,
   "nav_menu": {},
   "number_sections": true,
   "sideBar": true,
   "skip_h1_title": false,
   "title_cell": "Table of Contents",
   "title_sidebar": "Contents",
   "toc_cell": false,
   "toc_position": {},
   "toc_section_display": true,
   "toc_window_display": false
  }
 },
 "nbformat": 4,
 "nbformat_minor": 4
}
