{
 "cells": [
  {
   "cell_type": "markdown",
   "metadata": {},
   "source": [
    "## 05-2 모듈  \n",
    "---"
   ]
  },
  {
   "cell_type": "markdown",
   "metadata": {},
   "source": [
    "모듈이란 함수나 변수 또는 클래스를 모아 놓은 파일"
   ]
  },
  {
   "cell_type": "markdown",
   "metadata": {},
   "source": [
    "### 1. 모듈 만들기  \n",
    "---"
   ]
  },
  {
   "cell_type": "code",
   "execution_count": null,
   "metadata": {},
   "outputs": [],
   "source": [
    "def add(a, b):\n",
    "    return a + b\n",
    "\n",
    "def sub(a, b): \n",
    "    return a-b"
   ]
  },
  {
   "cell_type": "markdown",
   "metadata": {},
   "source": [
    " add와 sub 함수만 있는 파일 mod1.py를 만들고 C:\\doit 디렉터리에 저장하자.   \n",
    " 이 mod1.py 파일이 바로 모듈"
   ]
  },
  {
   "cell_type": "markdown",
   "metadata": {},
   "source": [
    "### 2.모듈 불러오기  \n",
    "---"
   ]
  },
  {
   "cell_type": "markdown",
   "metadata": {},
   "source": [
    "먼저 다음과 같이 명령 프롬프트 창을 열고 mod1.py를 저장한 디렉터리(이 책에서는 C:\\doit)로 이동한 다음 대화형 인터프리터를 실행한다."
   ]
  },
  {
   "cell_type": "markdown",
   "metadata": {},
   "source": [
    "#main.py  \n",
    "\n",
    "def add(a, b):  \n",
    "&nbsp;&nbsp;&nbsp;&nbsp;return a + b  \n",
    "\n",
    "def sub(a, b):   \n",
    "&nbsp;&nbsp;&nbsp;&nbsp;return a-b"
   ]
  },
  {
   "cell_type": "code",
   "execution_count": 3,
   "metadata": {
    "ExecuteTime": {
     "end_time": "2022-05-29T15:21:51.986590Z",
     "start_time": "2022-05-29T15:21:51.975766Z"
    }
   },
   "outputs": [
    {
     "name": "stdout",
     "output_type": "stream",
     "text": [
      "7\n"
     ]
    }
   ],
   "source": [
    "import main\n",
    "print(main.add(3, 4))"
   ]
  },
  {
   "cell_type": "markdown",
   "metadata": {},
   "source": [
    " `import`는 이미 만들어 놓은 파이썬 모듈을 사용할 수 있게 해주는 명령어"
   ]
  },
  {
   "cell_type": "code",
   "execution_count": 5,
   "metadata": {
    "ExecuteTime": {
     "end_time": "2022-05-29T15:23:09.187767Z",
     "start_time": "2022-05-29T15:23:09.160208Z"
    }
   },
   "outputs": [
    {
     "data": {
      "text/plain": [
       "7"
      ]
     },
     "execution_count": 5,
     "metadata": {},
     "output_type": "execute_result"
    }
   ],
   "source": [
    "from main import add\n",
    "add(3, 4)"
   ]
  },
  {
   "cell_type": "markdown",
   "metadata": {},
   "source": [
    " add 함수와 sub 함수를 둘 다 사용하고 싶다면 어떻게 해야 할까?"
   ]
  },
  {
   "cell_type": "code",
   "execution_count": 7,
   "metadata": {
    "ExecuteTime": {
     "end_time": "2022-05-29T15:23:55.468774Z",
     "start_time": "2022-05-29T15:23:55.464662Z"
    }
   },
   "outputs": [],
   "source": [
    "from main import add, sub"
   ]
  },
  {
   "cell_type": "code",
   "execution_count": 8,
   "metadata": {
    "ExecuteTime": {
     "end_time": "2022-05-29T15:23:59.164089Z",
     "start_time": "2022-05-29T15:23:59.158110Z"
    }
   },
   "outputs": [],
   "source": [
    "from main import *"
   ]
  },
  {
   "cell_type": "markdown",
   "metadata": {},
   "source": [
    " `*`문자는 \"모든 것\"이라는 뜻"
   ]
  },
  {
   "cell_type": "markdown",
   "metadata": {},
   "source": [
    "### 3. if __name__ == \"__main__\": 의 의미  \n",
    "---"
   ]
  },
  {
   "cell_type": "markdown",
   "metadata": {},
   "source": [
    "#main1.py  \n",
    "\n",
    "def add(a, b):  \n",
    "&nbsp;&nbsp;&nbsp;&nbsp;return a + b  \n",
    "\n",
    "def sub(a, b):   \n",
    "&nbsp;&nbsp;&nbsp;&nbsp;return a-b  \n",
    "\n",
    "print(add(1, 4))\n",
    "print(sub(4, 2))"
   ]
  },
  {
   "cell_type": "markdown",
   "metadata": {},
   "source": [
    "![3](https://user-images.githubusercontent.com/105963819/171078255-aa6402e1-15ee-4155-bb4a-beced9245cf2.png)\n"
   ]
  },
  {
   "cell_type": "code",
   "execution_count": 10,
   "metadata": {
    "ExecuteTime": {
     "end_time": "2022-05-30T03:33:14.874510Z",
     "start_time": "2022-05-30T03:33:14.851730Z"
    }
   },
   "outputs": [],
   "source": [
    "import main1"
   ]
  },
  {
   "cell_type": "markdown",
   "metadata": {},
   "source": [
    "`if __name__ == \"__main__\"`을 사용하면 `C:\\doit>python mod1.py`처럼 직접 이 파일을 실행했을 때는 `__name__ == \"__main__\"`이 참이 되어 if문 다음 문장이 수행된다.  \n",
    "반대로 대화형 인터프리터나 다른 파일에서 이 모듈을 불러서 사용할 때는 `__name__ == \"__main__\"`이 거짓이 되어 if문 다음 문장이 수행되지 않는다."
   ]
  },
  {
   "cell_type": "markdown",
   "metadata": {},
   "source": [
    "### 4.클래스나 변수 등을 포함한 모듈  \n",
    "---"
   ]
  },
  {
   "cell_type": "markdown",
   "metadata": {},
   "source": [
    "#main2.py  \n",
    "\n",
    "PI = 3.141592  \n",
    "\n",
    "class Math:  \n",
    "&nbsp;&nbsp;&nbsp;&nbsp;def solv(self, r):  \n",
    "&nbsp;&nbsp;&nbsp;&nbsp;&nbsp;&nbsp;&nbsp;&nbsp;return PI * (r ** 2)  \n",
    "\n",
    "def add(a, b):  \n",
    "&nbsp;&nbsp;&nbsp;&nbsp;return a+b "
   ]
  },
  {
   "cell_type": "code",
   "execution_count": 3,
   "metadata": {
    "ExecuteTime": {
     "end_time": "2022-05-31T02:06:16.819565Z",
     "start_time": "2022-05-31T02:06:16.789536Z"
    }
   },
   "outputs": [],
   "source": [
    "import main2"
   ]
  },
  {
   "cell_type": "code",
   "execution_count": 4,
   "metadata": {
    "ExecuteTime": {
     "end_time": "2022-05-31T02:06:33.675025Z",
     "start_time": "2022-05-31T02:06:33.658565Z"
    }
   },
   "outputs": [
    {
     "name": "stdout",
     "output_type": "stream",
     "text": [
      "3.141592\n"
     ]
    }
   ],
   "source": [
    "print(main2.PI)"
   ]
  },
  {
   "cell_type": "code",
   "execution_count": 6,
   "metadata": {
    "ExecuteTime": {
     "end_time": "2022-05-31T02:07:00.837588Z",
     "start_time": "2022-05-31T02:07:00.818248Z"
    }
   },
   "outputs": [
    {
     "name": "stdout",
     "output_type": "stream",
     "text": [
      "12.566368\n"
     ]
    }
   ],
   "source": [
    "a = main2.Math()\n",
    "print(a.solv(2))"
   ]
  },
  {
   "cell_type": "code",
   "execution_count": 7,
   "metadata": {
    "ExecuteTime": {
     "end_time": "2022-05-31T02:10:12.344825Z",
     "start_time": "2022-05-31T02:10:12.325341Z"
    }
   },
   "outputs": [
    {
     "name": "stdout",
     "output_type": "stream",
     "text": [
      "7.5415920000000005\n"
     ]
    }
   ],
   "source": [
    "print(main2.add(main2.PI, 4.4))"
   ]
  },
  {
   "cell_type": "markdown",
   "metadata": {},
   "source": [
    "## 05-3 패키지  \n",
    "---"
   ]
  },
  {
   "cell_type": "markdown",
   "metadata": {},
   "source": [
    "### 1.패키지란 무엇인가?  \n",
    "---"
   ]
  },
  {
   "cell_type": "markdown",
   "metadata": {},
   "source": [
    "패키지(Packages)는 도트(.)를 사용하여 파이썬 모듈을 계층적(디렉터리 구조)으로 관리할 수 있게 해준다.   \n",
    "예를 들어 모듈 이름이 A.B인 경우에 A는 패키지 이름이 되고 B는 A 패키지의 B모듈이 된다."
   ]
  },
  {
   "cell_type": "markdown",
   "metadata": {},
   "source": [
    "game/  \n",
    "&nbsp;&nbsp;&nbsp;&nbsp;\\__init__.py  \n",
    "&nbsp;&nbsp;&nbsp;&nbsp;sound/  \n",
    "&nbsp;&nbsp;&nbsp;&nbsp;&nbsp;&nbsp;&nbsp;&nbsp;\\__init__.py  \n",
    "&nbsp;&nbsp;&nbsp;&nbsp;&nbsp;&nbsp;&nbsp;&nbsp;echo.py  \n",
    "&nbsp;&nbsp;&nbsp;&nbsp;&nbsp;&nbsp;&nbsp;&nbsp;wav.py  \n",
    "&nbsp;&nbsp;&nbsp;&nbsp;graphic/  \n",
    "&nbsp;&nbsp;&nbsp;&nbsp;&nbsp;&nbsp;&nbsp;&nbsp;\\__init__.py  \n",
    "&nbsp;&nbsp;&nbsp;&nbsp;&nbsp;&nbsp;&nbsp;&nbsp;screen.py  \n",
    "&nbsp;&nbsp;&nbsp;&nbsp;&nbsp;&nbsp;&nbsp;&nbsp;render.py  \n",
    "&nbsp;&nbsp;&nbsp;&nbsp;play/  \n",
    "&nbsp;&nbsp;&nbsp;&nbsp;&nbsp;&nbsp;&nbsp;&nbsp;\\__init__.py  \n",
    "&nbsp;&nbsp;&nbsp;&nbsp;&nbsp;&nbsp;&nbsp;&nbsp;run.py  \n",
    "&nbsp;&nbsp;&nbsp;&nbsp;&nbsp;&nbsp;&nbsp;&nbsp;test.py"
   ]
  },
  {
   "cell_type": "markdown",
   "metadata": {},
   "source": [
    "game, sound, graphic, play는 디렉터리이고 확장자가 .py인 파일은 파이썬 모듈  \n",
    " game 디렉터리가 이 패키지의 루트 디렉터리이고 sound, graphic, play는 서브 디렉터리"
   ]
  },
  {
   "cell_type": "markdown",
   "metadata": {},
   "source": [
    "### 2.패키지 만들기  \n",
    "---"
   ]
  },
  {
   "cell_type": "markdown",
   "metadata": {},
   "source": [
    "1. `C:/doit` 디렉터리 밑에 game 및 기타 서브 디렉터리를 생성하고 .py 파일들을 다음과 같이 만들어 보자(만약 `C:/doit` 디렉터리가 없다면 먼저 생성하고 진행하자).  \n",
    "C:/doit/game/\\__init__.py  \n",
    "C:/doit/game/sound/\\__init__.py  \n",
    "C:/doit/game/sound/echo.py  \n",
    "C:/doit/game/graphic/\\__init__.py  \n",
    "C:/doit/game/graphic/render.py  \n",
    "\n",
    "2. 각 디렉터리에 `__init__.py` 파일을 만들어 놓기만 하고 내용은 일단 비워 둔다.  \n",
    "\n",
    "3. echo.py 파일은 다음과 같이 만든다.  \n",
    "#echo.py  \n",
    "\n",
    "def echo_test():  \n",
    "&nbsp;&nbsp;&nbsp;&nbsp;print(\"echo\")  \n",
    "\n",
    "4. render.py 파일은 다음과 같이 만든다.  \n",
    "#render.py  \n",
    "\n",
    "def render_test():  \n",
    "&nbsp;&nbsp;&nbsp;&nbsp;print(\"render\")  \n",
    "\n",
    "5. 다음 예제를 수행하기 전에 우리가 만든 game 패키지를 참조할 수 있도록 명령 프롬프트 창에서 set 명령어로 `PYTHONPATH` 환경 변수에 `C:/doit` 디렉터리를 추가한다. 그리고 파이썬 인터프리터(Interactive shell)를 실행한다.  \n",
    "\n",
    "\n",
    "C:\\> set PYTHONPATH=C:/doit  \n",
    "C:\\> python"
   ]
  },
  {
   "cell_type": "markdown",
   "metadata": {},
   "source": [
    "### 3.패키지 안의 함수 실행하기  \n",
    "---"
   ]
  },
  {
   "cell_type": "markdown",
   "metadata": {},
   "source": [
    "패키지 안의 함수를 실행하는 방법은 다음 3가지가 있다.   \n",
    "다음 예제는 import 예제이므로 하나의 예제를 실행하고 나서 다음 예제를 실행할 때에는 반드시 인터프리터를 종료하고 다시 실행해야 한다.  \n",
    "인터프리터를 다시 시작하지 않을 경우 이전에 import한 것들이 메모리에 남아 있어 엉뚱한 결과가 나올 수 있다(윈도우의 경우 인터프리터 종료는 `Ctrl+Z`)."
   ]
  },
  {
   "cell_type": "markdown",
   "metadata": {},
   "source": [
    "![4](https://user-images.githubusercontent.com/105963819/171083608-2de0a499-6ea2-4399-af47-b4aaa6681138.png)"
   ]
  },
  {
   "cell_type": "markdown",
   "metadata": {},
   "source": [
    "- echo 모듈을 import하여 실행하는 방법  \n",
    "- echo 모듈이 있는 디렉터리까지를 from ... import하여 실행하는 방법   \n",
    "- echo 모듈의 echo_test 함수를 직접 import하여 실행하는 방법"
   ]
  },
  {
   "cell_type": "markdown",
   "metadata": {},
   "source": [
    "### 4.__init__.py 의 용도  \n",
    "---"
   ]
  },
  {
   "cell_type": "markdown",
   "metadata": {},
   "source": [
    "<span style=\"color:green\">from</span> game.sound <span style=\"color:green\">import</span><span style=\"color:purple\"> * </span>   \n",
    "echo.echo_test()  \n",
    "\n",
    "Traceback (most recent call last):\n",
    "    File \"<stdin>\", line 1, in <module>\n",
    "NameError: name 'echo' is not defined"
   ]
  },
  {
   "cell_type": "markdown",
   "metadata": {},
   "source": [
    "뭔가 이상하지 않은가?   \n",
    "분명 game.sound 패키지에서 모든 것(*)을 import하였으므로 echo 모듈을 사용할 수 있어야 할 것 같은데 echo라는 이름이 정의되지 않았다는 이름 오류(NameError)가 발생했다."
   ]
  },
  {
   "cell_type": "markdown",
   "metadata": {},
   "source": [
    " *를 사용하여 import할 때에는 다음과 같이 해당 디렉터리의 `__init__.py` 파일에 `__all__` 변수를 설정하고 import할 수 있는 모듈을 정의해 주어야 한다."
   ]
  },
  {
   "cell_type": "markdown",
   "metadata": {},
   "source": [
    "여기에서 `__all__`이 의미하는 것은 sound 디렉터리에서 `*` 기호를 사용하여 import할 경우 이곳에 정의된 echo 모듈만 import된다는 의미이다.  \n",
    "\n",
    "`__all__ = ['echo']`"
   ]
  },
  {
   "cell_type": "markdown",
   "metadata": {},
   "source": [
    "### 5. relative 패키지  \n",
    "---"
   ]
  },
  {
   "cell_type": "markdown",
   "metadata": {},
   "source": [
    "만약 graphic 디렉터리의 render.py 모듈이 sound 디렉터리의 echo.py 모듈을 사용하고 싶다면 어떻게 해야 할까? "
   ]
  },
  {
   "cell_type": "markdown",
   "metadata": {},
   "source": [
    "#render.py  \n",
    "\n",
    "from game.sound.echo import echo_test  \n",
    "def render_test():  \n",
    "&nbsp;&nbsp;&nbsp;&nbsp;print(\"render\")  \n",
    "&nbsp;&nbsp;&nbsp;&nbsp;echo_test()"
   ]
  },
  {
   "cell_type": "markdown",
   "metadata": {},
   "source": [
    "전체 경로를 사용하여 import할 수도 있지만 다음과 같이 relative하게 import하는 것도 가능하다."
   ]
  },
  {
   "cell_type": "markdown",
   "metadata": {},
   "source": [
    "from ..sound.echo import echo_test  \n",
    "def render_test():  \n",
    "&nbsp;&nbsp;&nbsp;&nbsp;print(\"render\")  \n",
    "&nbsp;&nbsp;&nbsp;&nbsp;echo_test()"
   ]
  },
  {
   "cell_type": "markdown",
   "metadata": {},
   "source": [
    ".. – 부모 디렉터리\n",
    ". – 현재 디렉터리"
   ]
  }
 ],
 "metadata": {
  "kernelspec": {
   "display_name": "Python 3",
   "language": "python",
   "name": "python3"
  },
  "language_info": {
   "codemirror_mode": {
    "name": "ipython",
    "version": 3
   },
   "file_extension": ".py",
   "mimetype": "text/x-python",
   "name": "python",
   "nbconvert_exporter": "python",
   "pygments_lexer": "ipython3",
   "version": "3.8.5"
  },
  "toc": {
   "base_numbering": 1,
   "nav_menu": {},
   "number_sections": true,
   "sideBar": true,
   "skip_h1_title": false,
   "title_cell": "Table of Contents",
   "title_sidebar": "Contents",
   "toc_cell": false,
   "toc_position": {},
   "toc_section_display": true,
   "toc_window_display": false
  }
 },
 "nbformat": 4,
 "nbformat_minor": 4
}
